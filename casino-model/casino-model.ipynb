{
 "cells": [
  {
   "cell_type": "markdown",
   "metadata": {},
   "source": [
    "# 1. Задание\n",
    "*Click arrow on the left to toggle*"
   ]
  },
  {
   "cell_type": "markdown",
   "metadata": {},
   "source": [
    "В нашей CPA-сети проходит акция для вебмастеров, в которой за каждую одобренную </br>\n",
    "конверсию, вебмастер получает некое количество баллов (в зависимости от стоимости </br>\n",
    "оффера). Заработанные баллы вебмастер может потратить либо в магазине подарков </br>\n",
    "либо в казино.\n",
    "\n",
    "Заказчик акции направил список ключевых подарков, которые необходимо разыграть в </br>\n",
    "рамках казино. Основная задача казино - подогреть интерес к акции и стимулировать </br>\n",
    "вебмастера налить больше конверсий, поэтому все подарки не должны быть выиграны </br>\n",
    "до того, как казино закончится (иначе вебмастер потеряет мотивацию). </br>\n",
    "\n",
    "Логика работы казино: </br>\n",
    "У каждого вебмастера есть свой баланс баллов. Попадая на страницу казино, он видит </br>\n",
    "большую коробку, нажав на которую, он совершает спин. </br>\n",
    "Концептуально, каждый спин приносит вебмастеру какой-то выигрыш, но не </br>\n",
    "обязательно из списка ключевых подарков: помимо них, вебмастер может выиграть </br>\n",
    "баллы, которые могут быть потрачены на дальнейшие спины (пустышки). </br>\n",
    "\n",
    "**Материалы:** </br>\n",
    "- Список ключевых подарков с количеством позиций\n",
    "- Список конверсий каждого вебмастера и количество полученных баллов по ним за первые 3 месяца акции\n",
    "- Баллы по офферам на оставшийся период акции\n",
    "\n",
    "**Условия:** </br>\n",
    "- Акция проходит с 01.07.23 по 29.02.24\n",
    "- Казино начнет работу с 01.11.2023\n",
    "- Баллы начисляются вебмастеру сразу же после принятия конверсии\n",
    "- Казино будет активно пока не будут разыграны все ключевые подарки\n",
    "- Каждое нажатие (спин) вебмастер что-то выигрывает (не бывает пустых выигрышей)\n",
    "- Стоимость спина фиксированная\n",
    "- Каждый выигрыш система выбирает абсолютно рандомно, при этом исключая каждую выигранную позицию из списка возможных выигрышей\n",
    "- Баллы за конверсию на оффер могут меняться каждый месяц\n",
    "\n",
    "**Задача:** </br>\n",
    "1. Проанализировать имеющуюся информацию и предложить: </br>\n",
    "- стоимость одного спина </br>\n",
    "- итоговый список подарков с предложением по количеству и “стоимости” пустышек в балловом эквиваленте </br>\n",
    "\n",
    "*Необходимо также учесть пожелание заказчика, чтобы казино просуществовало активным до последнего месяца акции.* </br>\n",
    "\n",
    "2. Составьте минимум одно предложение и обоснуйте его: </br>\n",
    "- Какова в таком случае вероятность выигрыша ключевого приза? </br>\n",
    "- Какой порог вхождения по количеству конверсий для участия в казино у вебмастера? </br>\n",
    "- Какой % из общей выборки вебмастеров смогут попытать удачу при ваших условиях? </br>\n",
    "\n",
    "*Если вы считаете, что необходимо ввести лимит на количество спинов за какой-то промежуток времени, также можете обосновать.* </br>"
   ]
  },
  {
   "cell_type": "markdown",
   "metadata": {},
   "source": [
    "# 2. Решение\n",
    "*Click arrow on the left to toggle*"
   ]
  },
  {
   "cell_type": "markdown",
   "metadata": {},
   "source": [
    "Для расчёта модели потребуются:  </br>\n",
    "\n",
    "1. Стоимость спина </br>\n",
    "2. Количество баллов </br>\n",
    "3. Количество подарков = спинов </br>\n",
    "4. Вероятности подарков </br>\n",
    "\n",
    "Важные условия:  </br>\n",
    "\n",
    "1. Стоимость спина не изменяется </br>\n",
    "2. Вероятность получения подарка = 100% </br>\n",
    "3. Сроки акции с 01.07.23 до 29.02.24 </br>\n"
   ]
  },
  {
   "cell_type": "markdown",
   "metadata": {},
   "source": [
    "### План действий\n",
    "\n",
    "1. Анализ баллов, их динамики и распределения </br>\n",
    "- Получение и обработка данных\n",
    "- Тренд суммы баллов\n",
    "- Распределение баллов среди вебмастеров\n",
    "- Влияние вебмастеров на тренд баллов\n",
    "2. Прогноз количества баллов до конца акции </br>\n",
    "- Подготовка данных\n",
    "- Линейная регрессия\n",
    "- Прогноз до 29.02.24\n",
    "- Объединение данных\n",
    "3. Расчёт параметров экономики казино </br>\n",
    "- Итоги\n",
    "- Модель\n",
    "- Проверка\n",
    "- Призы баллами\n",
    "- Топовые вебмастера\n",
    "- Вебмастера без спинов"
   ]
  },
  {
   "cell_type": "markdown",
   "metadata": {},
   "source": [
    "### Допущения\n",
    "\n",
    "Ввиду отсутствия реальных данных о: </br>\n",
    "\n",
    "1. Выручках (общей и по каждому вебмастеру) за 2022 и 2023 годы </br>\n",
    "2. Бюджету акции (в валюте) </br>\n",
    "3. Проценту начисления баллов по офферам </br>\n",
    "4. Лимиту количества вебмастеров (факт кол-ва участников CPA-сети) </br>\n",
    "5. Потенциале количества конверсий (сезонность) </br>\n",
    "\n",
    "Просьба принять во внимание: </br>\n",
    "\n",
    "1. Модель максимально упрощена и дает ответы только на заданные вопросы, а не на \"интересные в рамках боевого проекта\". </br>\n",
    "2. Предполагается, что тренд баллов и пропорции вебмастеров в нем сохранятся до конца акции. </br>\n",
    "3. Многие уловия не были приняты во внимание, т.к. невозможно адекватно оценить их влияние на модель. </br>\n",
    "4. Все описанное ниже - усредненная вероятность, т.к. все 503 ключевые приза могут быть выиграны в первые 503 спина. </br>\n",
    "5. Местами присутствуют грубые округления, т.к. это тестовое задание, в котором важна лишь сама модель. </br>"
   ]
  },
  {
   "cell_type": "markdown",
   "metadata": {},
   "source": [
    "### Ответы\n",
    "\n",
    "1. Стоимость одного спина </br>\n",
    "Ответ: **15 баллов**\n",
    "\n",
    "2. Итоговый список подарков с предложением по количеству и “стоимости” пустышек в балловом эквиваленте </br>\n",
    "Ответ: **6250 подарков, где 503 ключевых и 5 747 баллами; ср. выигрыш баллами - 5**\n",
    "\n",
    "3. Какова в таком случае вероятность выигрыша ключевого приза? </br>\n",
    "Ответ: **8%**\n",
    "\n",
    "4. Какой порог вхождения по количеству конверсий для участия в казино у вебмастера? </br>\n",
    "Ответ: **не ограничено; на практике понадобится 3-5 конверсий**\n",
    "\n",
    "5. Какой % из общей выборки вебмастеров смогут попытать удачу при ваших условиях? </br>\n",
    "Ответ: **при сохранении тренда и пропорций; принять участие смогут 50%**"
   ]
  },
  {
   "cell_type": "markdown",
   "metadata": {},
   "source": [
    "### Улучшения\n",
    "\n",
    "**Для тестового задания:**\n",
    "\n",
    "1. Просчитать разные сценарии тренда (погнуть модель) \n",
    "2. Составить график распределения баллов по вебмастерам\n",
    "3. Рассчитать вариант подарков с х100 баллами в системе \n",
    "4. Заложить риски поверх текущих баллов вне системы (2%+5%)\n",
    "5. Написать симулятор с расчётом баллов (получили\\потратили) и подарков (выграли)\n",
    "\n",
    "**Для боевого проекта:**\n",
    "\n",
    "*Суть акции: заработать на увеличении количества конверсий за стоимость выделенного бюджета.* </br>\n",
    "*Ключевая метрика: прирост выручки в текущем периоде по сравнению с аналогичным периодом прошлого* </br>\n",
    "*года (если акций раньше не было) или предыдущим месяцем\\кварталом (менее точно).* </br>\n",
    "*Это то, что стоило бы считать на боевом проекте, но увы, не здесь.* </br>\n",
    "\n",
    "1. Расчёт ключевой метрики (понять, дала ли эффект акция и какой ROI у этого проекта)\n",
    "2. Корректировка модели с учетом выручки (через \"баллы за офферы\" и \"стоимость пустышек\")\n",
    "3. Корректировка модели с учетом бюджета \n",
    "4. Корректировка модели с учетом сезонности \n",
    "5. Корректировка модели с учетом динамики вебмастеров"
   ]
  },
  {
   "cell_type": "markdown",
   "metadata": {},
   "source": [
    "## 2.1. Аналитика\n",
    "*Click arrow on the left to toggle*"
   ]
  },
  {
   "cell_type": "code",
   "execution_count": 1,
   "metadata": {},
   "outputs": [],
   "source": [
    "import pandas as pd\n",
    "import seaborn as sns\n",
    "import numpy as np\n",
    "from sklearn import linear_model\n",
    "from sklearn.metrics import r2_score\n",
    "import matplotlib as mpl\n",
    "import matplotlib.pyplot as plt\n",
    "%matplotlib inline"
   ]
  },
  {
   "cell_type": "code",
   "execution_count": 2,
   "metadata": {},
   "outputs": [
    {
     "data": {
      "text/html": [
       "<div>\n",
       "<style scoped>\n",
       "    .dataframe tbody tr th:only-of-type {\n",
       "        vertical-align: middle;\n",
       "    }\n",
       "\n",
       "    .dataframe tbody tr th {\n",
       "        vertical-align: top;\n",
       "    }\n",
       "\n",
       "    .dataframe thead th {\n",
       "        text-align: right;\n",
       "    }\n",
       "</style>\n",
       "<table border=\"1\" class=\"dataframe\">\n",
       "  <thead>\n",
       "    <tr style=\"text-align: right;\">\n",
       "      <th></th>\n",
       "      <th>ID Вебмастера</th>\n",
       "      <th>Статус конверсии</th>\n",
       "      <th>Заработанные баллы</th>\n",
       "      <th>ID Оффера</th>\n",
       "      <th>Дата</th>\n",
       "    </tr>\n",
       "  </thead>\n",
       "  <tbody>\n",
       "    <tr>\n",
       "      <th>0</th>\n",
       "      <td>2.0</td>\n",
       "      <td>Принято</td>\n",
       "      <td>7</td>\n",
       "      <td>8</td>\n",
       "      <td>2023-07-01 12:46:27</td>\n",
       "    </tr>\n",
       "    <tr>\n",
       "      <th>1</th>\n",
       "      <td>45.0</td>\n",
       "      <td>Принято</td>\n",
       "      <td>5</td>\n",
       "      <td>49</td>\n",
       "      <td>2023-07-01 13:02:05</td>\n",
       "    </tr>\n",
       "    <tr>\n",
       "      <th>2</th>\n",
       "      <td>135.0</td>\n",
       "      <td>Принято</td>\n",
       "      <td>7</td>\n",
       "      <td>15</td>\n",
       "      <td>2023-07-02 09:56:59</td>\n",
       "    </tr>\n",
       "    <tr>\n",
       "      <th>3</th>\n",
       "      <td>207.0</td>\n",
       "      <td>Принято</td>\n",
       "      <td>7</td>\n",
       "      <td>15</td>\n",
       "      <td>2023-07-02 09:59:01</td>\n",
       "    </tr>\n",
       "    <tr>\n",
       "      <th>4</th>\n",
       "      <td>190.0</td>\n",
       "      <td>Принято</td>\n",
       "      <td>7</td>\n",
       "      <td>15</td>\n",
       "      <td>2023-07-02 10:35:08</td>\n",
       "    </tr>\n",
       "  </tbody>\n",
       "</table>\n",
       "</div>"
      ],
      "text/plain": [
       "   ID Вебмастера Статус конверсии  Заработанные баллы  ID Оффера  \\\n",
       "0            2.0          Принято                   7          8   \n",
       "1           45.0          Принято                   5         49   \n",
       "2          135.0          Принято                   7         15   \n",
       "3          207.0          Принято                   7         15   \n",
       "4          190.0          Принято                   7         15   \n",
       "\n",
       "                 Дата  \n",
       "0 2023-07-01 12:46:27  \n",
       "1 2023-07-01 13:02:05  \n",
       "2 2023-07-02 09:56:59  \n",
       "3 2023-07-02 09:59:01  \n",
       "4 2023-07-02 10:35:08  "
      ]
     },
     "execution_count": 2,
     "metadata": {},
     "output_type": "execute_result"
    }
   ],
   "source": [
    "# Получаем материалы и смотрим, что внутри\n",
    "# Лист \"Конверсии\" основной для работы\n",
    "# Лист \"Ключевые подарки\" использоваться не будет, главное: их там 503\n",
    "# Лист \"Баллы офферов\" использоваться не будет, см. Выводы\n",
    "\n",
    "xl = pd.ExcelFile('Тестовое_данные.xlsx')\n",
    "# xl.sheet_names\n",
    "\n",
    "conv = xl.parse('Конверсии')\n",
    "gift = xl.parse('Ключевые подарки')\n",
    "pts = xl.parse('Баллы офферов')\n",
    "conv.head()\n",
    "# gift.head()\n",
    "# opts.head()"
   ]
  },
  {
   "cell_type": "code",
   "execution_count": 3,
   "metadata": {},
   "outputs": [
    {
     "data": {
      "text/html": [
       "<div>\n",
       "<style scoped>\n",
       "    .dataframe tbody tr th:only-of-type {\n",
       "        vertical-align: middle;\n",
       "    }\n",
       "\n",
       "    .dataframe tbody tr th {\n",
       "        vertical-align: top;\n",
       "    }\n",
       "\n",
       "    .dataframe thead th {\n",
       "        text-align: right;\n",
       "    }\n",
       "</style>\n",
       "<table border=\"1\" class=\"dataframe\">\n",
       "  <thead>\n",
       "    <tr style=\"text-align: right;\">\n",
       "      <th></th>\n",
       "      <th>ID Вебмастера</th>\n",
       "      <th>Заработанные баллы</th>\n",
       "      <th>ID Оффера</th>\n",
       "      <th>Дата</th>\n",
       "      <th>Сумма баллов</th>\n",
       "    </tr>\n",
       "  </thead>\n",
       "  <tbody>\n",
       "    <tr>\n",
       "      <th>4100</th>\n",
       "      <td>224</td>\n",
       "      <td>7</td>\n",
       "      <td>15</td>\n",
       "      <td>2023-09-30 17:35:18</td>\n",
       "      <td>24654</td>\n",
       "    </tr>\n",
       "    <tr>\n",
       "      <th>4101</th>\n",
       "      <td>192</td>\n",
       "      <td>7</td>\n",
       "      <td>15</td>\n",
       "      <td>2023-09-30 17:41:03</td>\n",
       "      <td>24661</td>\n",
       "    </tr>\n",
       "    <tr>\n",
       "      <th>4102</th>\n",
       "      <td>39</td>\n",
       "      <td>7</td>\n",
       "      <td>15</td>\n",
       "      <td>2023-09-30 17:42:19</td>\n",
       "      <td>24668</td>\n",
       "    </tr>\n",
       "    <tr>\n",
       "      <th>4103</th>\n",
       "      <td>365</td>\n",
       "      <td>7</td>\n",
       "      <td>15</td>\n",
       "      <td>2023-09-30 17:42:58</td>\n",
       "      <td>24675</td>\n",
       "    </tr>\n",
       "    <tr>\n",
       "      <th>4104</th>\n",
       "      <td>296</td>\n",
       "      <td>7</td>\n",
       "      <td>15</td>\n",
       "      <td>2023-09-30 17:45:05</td>\n",
       "      <td>24682</td>\n",
       "    </tr>\n",
       "  </tbody>\n",
       "</table>\n",
       "</div>"
      ],
      "text/plain": [
       "      ID Вебмастера  Заработанные баллы  ID Оффера                Дата  \\\n",
       "4100            224                   7         15 2023-09-30 17:35:18   \n",
       "4101            192                   7         15 2023-09-30 17:41:03   \n",
       "4102             39                   7         15 2023-09-30 17:42:19   \n",
       "4103            365                   7         15 2023-09-30 17:42:58   \n",
       "4104            296                   7         15 2023-09-30 17:45:05   \n",
       "\n",
       "      Сумма баллов  \n",
       "4100         24654  \n",
       "4101         24661  \n",
       "4102         24668  \n",
       "4103         24675  \n",
       "4104         24682  "
      ]
     },
     "execution_count": 3,
     "metadata": {},
     "output_type": "execute_result"
    }
   ],
   "source": [
    "# Считаем общую сумму баллов на каждую дату\n",
    "# Убираем столбец статуса, т.к. там только \"принято\"\n",
    "# Добавляем столбец со счетчиком суммы баллов \n",
    "# Удаляем строчки с пустыми данными (2 шт. без ID)\n",
    "# Переводим ID в int\n",
    "\n",
    "pts_sum = []\n",
    "cnt = 0\n",
    "for i in conv['Заработанные баллы']:\n",
    "    cnt += i\n",
    "    pts_sum.append(cnt)\n",
    "# pts_sum\n",
    "\n",
    "conv.drop(labels='Статус конверсии', axis=1, inplace=True)\n",
    "conv['Сумма баллов'] = pts_sum\n",
    "conv.dropna(inplace=True)\n",
    "conv['ID Вебмастера'] = conv['ID Вебмастера'].astype('int64')\n",
    "conv.tail()"
   ]
  },
  {
   "cell_type": "code",
   "execution_count": 4,
   "metadata": {},
   "outputs": [
    {
     "data": {
      "text/plain": [
       "<Axes: xlabel='Дата', ylabel='Сумма баллов'>"
      ]
     },
     "execution_count": 4,
     "metadata": {},
     "output_type": "execute_result"
    },
    {
     "data": {
      "image/png": "[encoded data removed]",
      "text/plain": [
       "<Figure size 640x480 with 1 Axes>"
      ]
     },
     "metadata": {},
     "output_type": "display_data"
    }
   ],
   "source": [
    "# Смотрим какой тренд по баллам\n",
    "# Видим, что ускоряется - посчитаем прирост\n",
    "\n",
    "sns.set_style(\"whitegrid\")\n",
    "sns.lineplot(data=conv, x='Дата', y='Сумма баллов')"
   ]
  },
  {
   "cell_type": "code",
   "execution_count": 5,
   "metadata": {},
   "outputs": [
    {
     "data": {
      "text/plain": [
       "<Axes: xlabel='Неделя', ylabel='Заработанные баллы'>"
      ]
     },
     "execution_count": 5,
     "metadata": {},
     "output_type": "execute_result"
    },
    {
     "data": {
      "image/png": "[encoded data removed]",
      "text/plain": [
       "<Figure size 640x480 with 1 Axes>"
      ]
     },
     "metadata": {},
     "output_type": "display_data"
    }
   ],
   "source": [
    "# Вывели суммы полученных баллов за каждую неделю\n",
    "# Попробуем разобраться в причинах, для этого заглянем внутрь\n",
    "\n",
    "conv['Неделя'] = conv['Дата'].dt.isocalendar().week\n",
    "pts_wks = conv.groupby('Неделя')['Заработанные баллы'].sum()\n",
    "\n",
    "sns.barplot(data=pts_wks)"
   ]
  },
  {
   "cell_type": "code",
   "execution_count": 6,
   "metadata": {},
   "outputs": [
    {
     "data": {
      "text/plain": [
       "count     440.000000\n",
       "mean       56.065909\n",
       "std       146.224303\n",
       "min         3.000000\n",
       "25%         7.000000\n",
       "50%        15.000000\n",
       "75%        44.000000\n",
       "max      1566.000000\n",
       "Name: Заработанные баллы, dtype: float64"
      ]
     },
     "execution_count": 6,
     "metadata": {},
     "output_type": "execute_result"
    }
   ],
   "source": [
    "# Смотрим, как распределены баллы среди вебмастеров\n",
    "# Видим неравенство: три четверти имеют по 44 балла, а кто-то - 1566.\n",
    "# Это потенциальная проблема, рассмотрим получше, чтобы понять как решать\n",
    "\n",
    "pts_wm = conv.groupby('ID Вебмастера')['Заработанные баллы'].sum()\n",
    "pts_wm.describe()"
   ]
  },
  {
   "cell_type": "code",
   "execution_count": 27,
   "metadata": {},
   "outputs": [
    {
     "data": {
      "text/html": [
       "<div>\n",
       "<style scoped>\n",
       "    .dataframe tbody tr th:only-of-type {\n",
       "        vertical-align: middle;\n",
       "    }\n",
       "\n",
       "    .dataframe tbody tr th {\n",
       "        vertical-align: top;\n",
       "    }\n",
       "\n",
       "    .dataframe thead th {\n",
       "        text-align: right;\n",
       "    }\n",
       "</style>\n",
       "<table border=\"1\" class=\"dataframe\">\n",
       "  <thead>\n",
       "    <tr style=\"text-align: right;\">\n",
       "      <th></th>\n",
       "      <th>level_0</th>\n",
       "      <th>index</th>\n",
       "      <th>ID Вебмастера</th>\n",
       "      <th>Заработанные баллы</th>\n",
       "    </tr>\n",
       "  </thead>\n",
       "  <tbody>\n",
       "    <tr>\n",
       "      <th>435</th>\n",
       "      <td>435</td>\n",
       "      <td>123</td>\n",
       "      <td>135</td>\n",
       "      <td>781</td>\n",
       "    </tr>\n",
       "    <tr>\n",
       "      <th>436</th>\n",
       "      <td>436</td>\n",
       "      <td>127</td>\n",
       "      <td>139</td>\n",
       "      <td>921</td>\n",
       "    </tr>\n",
       "    <tr>\n",
       "      <th>437</th>\n",
       "      <td>437</td>\n",
       "      <td>140</td>\n",
       "      <td>153</td>\n",
       "      <td>1155</td>\n",
       "    </tr>\n",
       "    <tr>\n",
       "      <th>438</th>\n",
       "      <td>438</td>\n",
       "      <td>209</td>\n",
       "      <td>224</td>\n",
       "      <td>1517</td>\n",
       "    </tr>\n",
       "    <tr>\n",
       "      <th>439</th>\n",
       "      <td>439</td>\n",
       "      <td>278</td>\n",
       "      <td>296</td>\n",
       "      <td>1566</td>\n",
       "    </tr>\n",
       "  </tbody>\n",
       "</table>\n",
       "</div>"
      ],
      "text/plain": [
       "     level_0  index  ID Вебмастера  Заработанные баллы\n",
       "435      435    123            135                 781\n",
       "436      436    127            139                 921\n",
       "437      437    140            153                1155\n",
       "438      438    209            224                1517\n",
       "439      439    278            296                1566"
      ]
     },
     "execution_count": 27,
     "metadata": {},
     "output_type": "execute_result"
    }
   ],
   "source": [
    "# На 30.09.2023:\n",
    "# 52 из 440 вебмастеров (11.82%)\n",
    "# заработали больше l=100 баллов\n",
    "# и владеют 15 814 из 24 682 баллами (64.07%);\n",
    "# 218 из 440 вебмастеров (49.54%)\n",
    "# заработали меньше k=15\n",
    "# и владеют 1 688 из 24 682 баллами (6.84%).\n",
    "\n",
    "l = 100\n",
    "k = 15\n",
    "pts_wm = pd.DataFrame(pts_wm)\n",
    "pts_wm.reset_index(inplace=True)\n",
    "pts_wm.sort_values(by=['Заработанные баллы'], inplace=True)\n",
    "top_wm = pts_wm['ID Вебмастера'][pts_wm['Заработанные баллы']>=l].count() \n",
    "top_pts = pts_wm['Заработанные баллы'][pts_wm['Заработанные баллы']>=l].sum()\n",
    "bot_wm = pts_wm['ID Вебмастера'][pts_wm['Заработанные баллы']<k].count()\n",
    "bot_pts = pts_wm['Заработанные баллы'][pts_wm['Заработанные баллы']<k].sum()\n",
    "ttl_pts = pts_sum[-1]\n",
    "ttl_wm = pts_wm['ID Вебмастера'].count()\n",
    "prt_wm = top_wm / ttl_wm * 100\n",
    "prt_pts = top_pts / ttl_pts * 100\n",
    "pts_wm.tail()\n",
    "\n",
    "# print('На 30.09.2023 всего',top_wm,'из',ttl_wm,'вебмастеров (','%.2f'%prt_wm,'% )','смогли заработать больше 100 баллов и владеют',top_pts,'из',ttl_pts,'баллами (','%.2f'%prt_pts,'% ).')"
   ]
  },
  {
   "cell_type": "code",
   "execution_count": 8,
   "metadata": {},
   "outputs": [
    {
     "data": {
      "text/html": [
       "<div>\n",
       "<style scoped>\n",
       "    .dataframe tbody tr th:only-of-type {\n",
       "        vertical-align: middle;\n",
       "    }\n",
       "\n",
       "    .dataframe tbody tr th {\n",
       "        vertical-align: top;\n",
       "    }\n",
       "\n",
       "    .dataframe thead th {\n",
       "        text-align: right;\n",
       "    }\n",
       "</style>\n",
       "<table border=\"1\" class=\"dataframe\">\n",
       "  <thead>\n",
       "    <tr style=\"text-align: right;\">\n",
       "      <th></th>\n",
       "      <th>ID Вебмастера</th>\n",
       "      <th>Заработанные баллы</th>\n",
       "      <th>ID Оффера</th>\n",
       "      <th>Дата</th>\n",
       "      <th>Сумма баллов</th>\n",
       "      <th>Неделя</th>\n",
       "    </tr>\n",
       "  </thead>\n",
       "  <tbody>\n",
       "    <tr>\n",
       "      <th>0</th>\n",
       "      <td>2</td>\n",
       "      <td>7</td>\n",
       "      <td>8</td>\n",
       "      <td>2023-07-01 12:46:27</td>\n",
       "      <td>7</td>\n",
       "      <td>26</td>\n",
       "    </tr>\n",
       "    <tr>\n",
       "      <th>2</th>\n",
       "      <td>135</td>\n",
       "      <td>7</td>\n",
       "      <td>15</td>\n",
       "      <td>2023-07-02 09:56:59</td>\n",
       "      <td>19</td>\n",
       "      <td>26</td>\n",
       "    </tr>\n",
       "    <tr>\n",
       "      <th>3</th>\n",
       "      <td>207</td>\n",
       "      <td>7</td>\n",
       "      <td>15</td>\n",
       "      <td>2023-07-02 09:59:01</td>\n",
       "      <td>26</td>\n",
       "      <td>26</td>\n",
       "    </tr>\n",
       "    <tr>\n",
       "      <th>4</th>\n",
       "      <td>190</td>\n",
       "      <td>7</td>\n",
       "      <td>15</td>\n",
       "      <td>2023-07-02 10:35:08</td>\n",
       "      <td>33</td>\n",
       "      <td>26</td>\n",
       "    </tr>\n",
       "    <tr>\n",
       "      <th>25</th>\n",
       "      <td>21</td>\n",
       "      <td>7</td>\n",
       "      <td>15</td>\n",
       "      <td>2023-07-06 09:39:13</td>\n",
       "      <td>166</td>\n",
       "      <td>27</td>\n",
       "    </tr>\n",
       "  </tbody>\n",
       "</table>\n",
       "</div>"
      ],
      "text/plain": [
       "    ID Вебмастера  Заработанные баллы  ID Оффера                Дата  \\\n",
       "0               2                   7          8 2023-07-01 12:46:27   \n",
       "2             135                   7         15 2023-07-02 09:56:59   \n",
       "3             207                   7         15 2023-07-02 09:59:01   \n",
       "4             190                   7         15 2023-07-02 10:35:08   \n",
       "25             21                   7         15 2023-07-06 09:39:13   \n",
       "\n",
       "    Сумма баллов  Неделя  \n",
       "0              7      26  \n",
       "2             19      26  \n",
       "3             26      26  \n",
       "4             33      26  \n",
       "25           166      27  "
      ]
     },
     "execution_count": 8,
     "metadata": {},
     "output_type": "execute_result"
    }
   ],
   "source": [
    "# Разделим вебмастеров на две группы\n",
    "# И посмотрим на долю этих групп в разрезе недель\n",
    "# Считаем сколько заработал каждый вебмастер,\n",
    "# Выбираем со 100+ баллами\n",
    "\n",
    "group_wm = conv.groupby('ID Вебмастера')['Заработанные баллы'].sum()\n",
    "group_wm = pd.DataFrame(group_wm)\n",
    "group_wm.reset_index(inplace=True)\n",
    "group_wm = group_wm[group_wm['Заработанные баллы']>=l]\n",
    "group_wm = group_wm['ID Вебмастера'].tolist()\n",
    "group_top = conv[conv['ID Вебмастера'].isin(group_wm)]\n",
    "group_top.head()\n"
   ]
  },
  {
   "cell_type": "code",
   "execution_count": 9,
   "metadata": {},
   "outputs": [
    {
     "name": "stderr",
     "output_type": "stream",
     "text": [
      "/var/folders/dc/jr4y5vr12n543l72hqx8pjfw0000gn/T/ipykernel_14457/3862579655.py:11: SettingWithCopyWarning: \n",
      "A value is trying to be set on a copy of a slice from a DataFrame\n",
      "\n",
      "See the caveats in the documentation: https://pandas.pydata.org/pandas-docs/stable/user_guide/indexing.html#returning-a-view-versus-a-copy\n",
      "  group_top.drop(labels='Сумма баллов', axis=1, inplace=True)\n",
      "/var/folders/dc/jr4y5vr12n543l72hqx8pjfw0000gn/T/ipykernel_14457/3862579655.py:12: SettingWithCopyWarning: \n",
      "A value is trying to be set on a copy of a slice from a DataFrame.\n",
      "Try using .loc[row_indexer,col_indexer] = value instead\n",
      "\n",
      "See the caveats in the documentation: https://pandas.pydata.org/pandas-docs/stable/user_guide/indexing.html#returning-a-view-versus-a-copy\n",
      "  group_top['Баллы ТОПов'] = top_sum\n"
     ]
    },
    {
     "data": {
      "text/html": [
       "<div>\n",
       "<style scoped>\n",
       "    .dataframe tbody tr th:only-of-type {\n",
       "        vertical-align: middle;\n",
       "    }\n",
       "\n",
       "    .dataframe tbody tr th {\n",
       "        vertical-align: top;\n",
       "    }\n",
       "\n",
       "    .dataframe thead th {\n",
       "        text-align: right;\n",
       "    }\n",
       "</style>\n",
       "<table border=\"1\" class=\"dataframe\">\n",
       "  <thead>\n",
       "    <tr style=\"text-align: right;\">\n",
       "      <th></th>\n",
       "      <th>ID Вебмастера</th>\n",
       "      <th>Заработанные баллы</th>\n",
       "      <th>ID Оффера</th>\n",
       "      <th>Дата</th>\n",
       "      <th>Неделя</th>\n",
       "      <th>Баллы ТОПов</th>\n",
       "    </tr>\n",
       "  </thead>\n",
       "  <tbody>\n",
       "    <tr>\n",
       "      <th>4098</th>\n",
       "      <td>224</td>\n",
       "      <td>7</td>\n",
       "      <td>15</td>\n",
       "      <td>2023-09-30 17:15:29</td>\n",
       "      <td>39</td>\n",
       "      <td>15786</td>\n",
       "    </tr>\n",
       "    <tr>\n",
       "      <th>4100</th>\n",
       "      <td>224</td>\n",
       "      <td>7</td>\n",
       "      <td>15</td>\n",
       "      <td>2023-09-30 17:35:18</td>\n",
       "      <td>39</td>\n",
       "      <td>15793</td>\n",
       "    </tr>\n",
       "    <tr>\n",
       "      <th>4102</th>\n",
       "      <td>39</td>\n",
       "      <td>7</td>\n",
       "      <td>15</td>\n",
       "      <td>2023-09-30 17:42:19</td>\n",
       "      <td>39</td>\n",
       "      <td>15800</td>\n",
       "    </tr>\n",
       "    <tr>\n",
       "      <th>4103</th>\n",
       "      <td>365</td>\n",
       "      <td>7</td>\n",
       "      <td>15</td>\n",
       "      <td>2023-09-30 17:42:58</td>\n",
       "      <td>39</td>\n",
       "      <td>15807</td>\n",
       "    </tr>\n",
       "    <tr>\n",
       "      <th>4104</th>\n",
       "      <td>296</td>\n",
       "      <td>7</td>\n",
       "      <td>15</td>\n",
       "      <td>2023-09-30 17:45:05</td>\n",
       "      <td>39</td>\n",
       "      <td>15814</td>\n",
       "    </tr>\n",
       "  </tbody>\n",
       "</table>\n",
       "</div>"
      ],
      "text/plain": [
       "      ID Вебмастера  Заработанные баллы  ID Оффера                Дата  \\\n",
       "4098            224                   7         15 2023-09-30 17:15:29   \n",
       "4100            224                   7         15 2023-09-30 17:35:18   \n",
       "4102             39                   7         15 2023-09-30 17:42:19   \n",
       "4103            365                   7         15 2023-09-30 17:42:58   \n",
       "4104            296                   7         15 2023-09-30 17:45:05   \n",
       "\n",
       "      Неделя  Баллы ТОПов  \n",
       "4098      39        15786  \n",
       "4100      39        15793  \n",
       "4102      39        15800  \n",
       "4103      39        15807  \n",
       "4104      39        15814  "
      ]
     },
     "execution_count": 9,
     "metadata": {},
     "output_type": "execute_result"
    }
   ],
   "source": [
    "# Считаем общую сумму баллов для вебмастеров со 100+ баллами 30.09.2023\n",
    "# И выносим их в отдельную таблицу\n",
    "\n",
    "top_sum = []\n",
    "cnt = 0\n",
    "for i in group_top['Заработанные баллы']:\n",
    "    cnt += i\n",
    "    top_sum.append(cnt)\n",
    "# top_sum\n",
    "\n",
    "group_top.drop(labels='Сумма баллов', axis=1, inplace=True)\n",
    "group_top['Баллы ТОПов'] = top_sum\n",
    "group_top.tail()\n"
   ]
  },
  {
   "cell_type": "code",
   "execution_count": 10,
   "metadata": {},
   "outputs": [
    {
     "data": {
      "text/plain": [
       "<Axes: xlabel='Дата', ylabel='Сумма баллов'>"
      ]
     },
     "execution_count": 10,
     "metadata": {},
     "output_type": "execute_result"
    },
    {
     "data": {
      "image/png": "[encoded data removed]",
      "text/plain": [
       "<Figure size 640x480 with 1 Axes>"
      ]
     },
     "metadata": {},
     "output_type": "display_data"
    }
   ],
   "source": [
    "# Смотрим на динамину по вебмастерам:\n",
    "# Видим, что графики схожи\n",
    "# Кто влияет на тренд больше? Кто может его изменить в будущем?\n",
    "\n",
    "sns.lineplot(data=conv, x='Дата', y='Сумма баллов')\n",
    "sns.lineplot(data=group_top, x='Дата', y='Баллы ТОПов')"
   ]
  },
  {
   "cell_type": "code",
   "execution_count": 11,
   "metadata": {},
   "outputs": [
    {
     "name": "stdout",
     "output_type": "stream",
     "text": [
      "58.98 % от всех заработанных баллов держали топовые вебмастера в среднем в течение всего периода\n"
     ]
    },
    {
     "data": {
      "image/png": "[encoded data removed]",
      "text/plain": [
       "<Figure size 640x480 with 1 Axes>"
      ]
     },
     "metadata": {},
     "output_type": "display_data"
    }
   ],
   "source": [
    "# 1. Как влияют на тренд топовые вебмастера?\n",
    "# Доля топов стабильно около 60% на протяжении всего периода\n",
    "# Значит, вероятность того, что в будущем изменится пропорция по группам вебмастеров - мала\n",
    "\n",
    "pts_wks = conv.groupby('Неделя')['Заработанные баллы'].sum()\n",
    "top_wks = group_top.groupby('Неделя')['Заработанные баллы'].sum()\n",
    "\n",
    "sns.barplot(data=pts_wks)\n",
    "sns.barplot(data=top_wks)\n",
    "\n",
    "pts_top = top_wks / pts_wks * 100\n",
    "print('%.2f'%(pts_top.sum()/(len(pts_top))),'% от всех заработанных баллов держали топовые вебмастера в среднем в течение всего периода')"
   ]
  },
  {
   "cell_type": "code",
   "execution_count": 12,
   "metadata": {},
   "outputs": [
    {
     "data": {
      "text/plain": [
       "<Axes: xlabel='Неделя', ylabel='ID Вебмастера'>"
      ]
     },
     "execution_count": 12,
     "metadata": {},
     "output_type": "execute_result"
    },
    {
     "data": {
      "image/png": "[encoded data removed]",
      "text/plain": [
       "<Figure size 640x480 with 1 Axes>"
      ]
     },
     "metadata": {},
     "output_type": "display_data"
    }
   ],
   "source": [
    "# 2. Связана ли эта динамика с появлением новых вебмастеров? \n",
    "# Получаем первое упоминание каждого ID и смотрим на даты\n",
    "# Видим, что корреляция слабая\n",
    "# Значит, появление новых вебмастеров в будущем не должно сильно повлиять на тренд\n",
    "\n",
    "new_wm = conv.drop_duplicates(subset='ID Вебмастера', keep='first')\n",
    "new_wm = new_wm.groupby('Неделя')['ID Вебмастера'].count()\n",
    "# new_wm.mean()\n",
    "\n",
    "# sns.scatterplot(x=new_wm['Дата'], y=new_wm['ID Вебмастера'], color='green')\n",
    "sns.barplot(data=new_wm, color='green')\n"
   ]
  },
  {
   "cell_type": "markdown",
   "metadata": {},
   "source": [
    "## 2.2. Прогнозирование\n",
    "*Click arrow on the left to toggle*"
   ]
  },
  {
   "cell_type": "code",
   "execution_count": 13,
   "metadata": {},
   "outputs": [
    {
     "data": {
      "text/html": [
       "<div>\n",
       "<style scoped>\n",
       "    .dataframe tbody tr th:only-of-type {\n",
       "        vertical-align: middle;\n",
       "    }\n",
       "\n",
       "    .dataframe tbody tr th {\n",
       "        vertical-align: top;\n",
       "    }\n",
       "\n",
       "    .dataframe thead th {\n",
       "        text-align: right;\n",
       "    }\n",
       "</style>\n",
       "<table border=\"1\" class=\"dataframe\">\n",
       "  <thead>\n",
       "    <tr style=\"text-align: right;\">\n",
       "      <th></th>\n",
       "      <th>День</th>\n",
       "      <th>Сумма баллов</th>\n",
       "    </tr>\n",
       "  </thead>\n",
       "  <tbody>\n",
       "    <tr>\n",
       "      <th>0</th>\n",
       "      <td>182</td>\n",
       "      <td>7</td>\n",
       "    </tr>\n",
       "    <tr>\n",
       "      <th>1</th>\n",
       "      <td>182</td>\n",
       "      <td>12</td>\n",
       "    </tr>\n",
       "    <tr>\n",
       "      <th>2</th>\n",
       "      <td>183</td>\n",
       "      <td>19</td>\n",
       "    </tr>\n",
       "    <tr>\n",
       "      <th>3</th>\n",
       "      <td>183</td>\n",
       "      <td>26</td>\n",
       "    </tr>\n",
       "    <tr>\n",
       "      <th>4</th>\n",
       "      <td>183</td>\n",
       "      <td>33</td>\n",
       "    </tr>\n",
       "    <tr>\n",
       "      <th>...</th>\n",
       "      <td>...</td>\n",
       "      <td>...</td>\n",
       "    </tr>\n",
       "    <tr>\n",
       "      <th>4100</th>\n",
       "      <td>273</td>\n",
       "      <td>24654</td>\n",
       "    </tr>\n",
       "    <tr>\n",
       "      <th>4101</th>\n",
       "      <td>273</td>\n",
       "      <td>24661</td>\n",
       "    </tr>\n",
       "    <tr>\n",
       "      <th>4102</th>\n",
       "      <td>273</td>\n",
       "      <td>24668</td>\n",
       "    </tr>\n",
       "    <tr>\n",
       "      <th>4103</th>\n",
       "      <td>273</td>\n",
       "      <td>24675</td>\n",
       "    </tr>\n",
       "    <tr>\n",
       "      <th>4104</th>\n",
       "      <td>273</td>\n",
       "      <td>24682</td>\n",
       "    </tr>\n",
       "  </tbody>\n",
       "</table>\n",
       "<p>4102 rows × 2 columns</p>\n",
       "</div>"
      ],
      "text/plain": [
       "      День  Сумма баллов\n",
       "0      182             7\n",
       "1      182            12\n",
       "2      183            19\n",
       "3      183            26\n",
       "4      183            33\n",
       "...    ...           ...\n",
       "4100   273         24654\n",
       "4101   273         24661\n",
       "4102   273         24668\n",
       "4103   273         24675\n",
       "4104   273         24682\n",
       "\n",
       "[4102 rows x 2 columns]"
      ]
     },
     "execution_count": 13,
     "metadata": {},
     "output_type": "execute_result"
    }
   ],
   "source": [
    "# Добавим счётчик дней, т.к. модель не умеет нормально работать с датами\n",
    "# Все остальное уберем\n",
    "\n",
    "conv['День'] = conv['Дата'].dt.dayofyear\n",
    "conv_mod = conv[['День','Сумма баллов']]\n",
    "conv_mod.tail()"
   ]
  },
  {
   "cell_type": "code",
   "execution_count": 14,
   "metadata": {},
   "outputs": [],
   "source": [
    "# Делим таблицу на две части в случайном порядке\n",
    "# На одной учим, на второй проверяем\n",
    "\n",
    "n = np.random.rand(len(conv)) < 0.8\n",
    "train = conv_mod[n]\n",
    "test = conv_mod[~n]\n",
    "\n",
    "train_x = np.asanyarray(train[['День']])\n",
    "train_y = np.asanyarray(train[['Сумма баллов']])\n",
    "\n",
    "test_x = np.asanyarray(test[['День']])\n",
    "test_y = np.asanyarray(test[['Сумма баллов']])"
   ]
  },
  {
   "cell_type": "code",
   "execution_count": 15,
   "metadata": {},
   "outputs": [
    {
     "data": {
      "text/plain": [
       "Text(0, 0.5, 'Сумма баллов')"
      ]
     },
     "execution_count": 15,
     "metadata": {},
     "output_type": "execute_result"
    },
    {
     "data": {
      "image/png": "[encoded data removed]",
      "text/plain": [
       "<Figure size 640x480 with 1 Axes>"
      ]
     },
     "metadata": {},
     "output_type": "display_data"
    }
   ],
   "source": [
    "# Делаем линейный прогноз по сумме\n",
    "# Т.к. тренд стабильный, а задача упрощена\n",
    "\n",
    "lr = linear_model.LinearRegression()\n",
    "lr.fit(train_x, train_y)\n",
    "\n",
    "plt.scatter(conv_mod['День'], conv_mod['Сумма баллов'],  color='lightblue')\n",
    "plt.plot(train_x, lr.coef_[0][0]*train_x + lr.intercept_[0], '-r')\n",
    "plt.xlabel(\"Номер дня\")\n",
    "plt.ylabel(\"Сумма баллов\")"
   ]
  },
  {
   "cell_type": "code",
   "execution_count": 16,
   "metadata": {},
   "outputs": [
    {
     "name": "stdout",
     "output_type": "stream",
     "text": [
      "MAE: 1307.42\n",
      "MSE: 2595324.84\n",
      "R2-score: 0.95\n"
     ]
    }
   ],
   "source": [
    "# Проверяем полученное\n",
    "\n",
    "predictions = lr.predict(test_x)\n",
    "\n",
    "print(\"MAE: %.2f\" % np.mean(np.absolute(predictions - test_y)))\n",
    "print(\"MSE: %.2f\" % np.mean((predictions - test_y) ** 2))\n",
    "print(\"R2-score: %.2f\" % r2_score(test_y , predictions))"
   ]
  },
  {
   "cell_type": "code",
   "execution_count": 17,
   "metadata": {},
   "outputs": [],
   "source": [
    "# 01.07.23 это 182-й день в году, \n",
    "# 30.09.23 это 273-й день в году, \n",
    "# 29.02.24 это 60-й день в году; \n",
    "# разница между началом и концом акции 244 дня.\n",
    "# Для простоты и скорости делаем: 182 + 244 = 426, т.е. Номера дней в акции будут с 182 по 426.\n",
    "\n",
    "pred_x = list(range(274,427))\n",
    "pred_x = pd.DataFrame(pred_x)\n",
    "pred_x = np.asanyarray(pred_x)\n",
    "\n",
    "predictions = lr.predict(pred_x)\n",
    "# predictions\n"
   ]
  },
  {
   "cell_type": "code",
   "execution_count": 18,
   "metadata": {},
   "outputs": [],
   "source": [
    "# Собираем предсказание в отдельную таблицу\n",
    "# И объединяем имеющиеся данные с предсказанными\n",
    "\n",
    "pred_x = pd.DataFrame(pred_x)\n",
    "predictions = pd.DataFrame(predictions)\n",
    "forecast = pd.concat([pred_x,predictions], axis=1)\n",
    "forecast.columns = [\"День\",\"Сумма баллов\"]\n",
    "#forecast\n",
    "\n",
    "conv_forecast = pd.concat([conv_mod,forecast])\n",
    "#conv_forecast"
   ]
  },
  {
   "cell_type": "code",
   "execution_count": 19,
   "metadata": {},
   "outputs": [
    {
     "data": {
      "text/plain": [
       "[<matplotlib.lines.Line2D at 0x28117f290>]"
      ]
     },
     "execution_count": 19,
     "metadata": {},
     "output_type": "execute_result"
    },
    {
     "data": {
      "image/png": "[encoded data removed]",
      "text/plain": [
       "<Figure size 640x480 with 1 Axes>"
      ]
     },
     "metadata": {},
     "output_type": "display_data"
    }
   ],
   "source": [
    "# Так эти данные выглядят теперь (мы просто продолжили линию модели)\n",
    "\n",
    "plt.scatter(conv_forecast['День'], conv_forecast['Сумма баллов'],  color='lightblue')\n",
    "plt.plot(train_x, lr.coef_[0][0]*train_x + lr.intercept_[0], '-r')"
   ]
  },
  {
   "cell_type": "markdown",
   "metadata": {},
   "source": [
    "## 2.3. Выводы\n",
    "*Click arrow on the left to toggle*"
   ]
  },
  {
   "cell_type": "markdown",
   "metadata": {},
   "source": [
    "На конец акции 29.02.2024: </br>\n",
    "\n",
    "Баллов, всего **62 500** </br>\n",
    "Баллов у топовых 62 500 * 0.59 = **36 875** </br>\n",
    "Баллов у остальных 62 500 * 0.41 = **25 625** </br>\n",
    "\n",
    "Вебмастеров, всего **1 538** (прирост 4.5 в день) </br>\n",
    "Вебмастеров топовых 1 538 * 0.12 = **185** </br>\n",
    "Вебмастеров остальных 1 538 * 0.88 = **1 353** </br>\n",
    "\n",
    "Баллов в среднем у топовых 36 875 \\ 185 = **199** </br>\n",
    "Баллов в среднем у остальных 25 625 \\ 1 373 = **19** </br>\n",
    "\n",
    "Подарков, всего **503** </br>\n",
    "Стоимостью в баллах 62 500 \\ 503 = **125** </br>\n",
    "\n",
    "То есть, если стоимость одного спина = 125 баллов, то к концу акции все баллы будут потрачены и все подарки выиграны. </br>\n",
    "Мешает этому только распределение: вебмастера вне топов не смогут участвовать и 26к баллов останутся неиспользованными. </br>\n",
    "Что делать? Удешевляем спины. Как? Увеличиваем количество призов - снижается стоимость.  </br>\n",
    "Проблема в том, что нет \"пустых подарков\" и вместе с количеством призов, растёт и количество баллов. </br>\n",
    "Помимо прочего, не хотелось бы, чтобы все подарки выйграла пара человек у которых уже по 1000+ на счету. </br>"
   ]
  },
  {
   "cell_type": "markdown",
   "metadata": {},
   "source": [
    "### Модель\n",
    "\n",
    "Баллов заработанных **62 500** </br>\n",
    "Баллов выигранных **28 735** </br>\n",
    "Баллов, всего в системе **91 235** </br>\n",
    "\n",
    "Призов ключевых **503** </br>\n",
    "Призов баллами **5 747** </br>\n",
    "Призов, всего в системе **6 250** </br>\n",
    "\n",
    "Стоимость спина или приза 91 235 \\ 6 250 = **14.6** (округляем до 15) </br>\n",
    "Стоимость приза баллами 91 235 \\ 5 747 = **15.9**  </br>\n",
    "Стоимость приза ключевого 91 235 \\ 503 = **181.4**  </br>\n",
    "\n",
    "Вероятность выигрыша приза баллами 5 747 \\ 6 250 = **92.0%** </br>\n",
    "Вероятность выигрыша приза ключевого 503 \\ 6 250 = **8.0%** </br>\n",
    "\n",
    "Примечания: </br>\n",
    "\n",
    "Эквилибриум количества призов, суммы баллов и ост. продиктован одной вещью - стоимостью спина, которая должна быть доступной. </br>\n",
    "Стоимость приза = стоимости спина - по условиям задачи, т.к. не бывает пустых выигрышей. </br>\n",
    "Почему стоимость приза баллами выше общей? Может \"неповезти\" - выпадет ключевой в 1\\13 случаев и придётся тратить дополнительные 15.9 - 14.6 = 1.3 балла. </br>\n",
    "По ключевому логика: нужно 13 спинов по 15 баллов, чтобы \"получить\" 104% КП за 195 баллов. </br>"
   ]
  },
  {
   "cell_type": "markdown",
   "metadata": {},
   "source": [
    "### Прогон-проверка\n",
    "\n",
    "Тратим 62 500 по 15 на спин, делаем 4 166 спинов </br>\n",
    "из них получаем 8% ключевыми подарками - 333 шт. </br>\n",
    "остальные 92% приносят на по 5 баллов в среднем - 19 163 баллов </br>\n",
    "\n",
    "Тратим 19 163 по 15 на спин, делаем 1 277 спинов </br>\n",
    "из них получаем 8% ключевыми подарками - 102 шт. </br>\n",
    "остальные 92% приносят на по 5 баллов в среднем - 5 870 баллов </br>\n",
    "\n",
    "Тратим 5 870 по 15 на спин, делаем 391 спин </br>\n",
    "из них получаем 8% ключевыми подарками - 31 шт. </br>\n",
    "остальные 92% приносят на по 5 баллов в среднем - 1 795 баллов </br>\n",
    "\n",
    "И так далее... Каждый раз возвращая по 30% от потраченного, </br>\n",
    "как и заложено системой, с потерями на округление. </br> \n",
    "Если идти от обратного: </br>\n",
    "\n",
    "Делаем 6 250 спинов по 15 баллов, тратим 93 750 </br>\n",
    "из них 5 747 приносят нам в среднем 5 баллов, суммарно 28 735 </br>\n",
    "\"Вне игры\" остаются: 2 515 баллов или 168 спинов </br>\n",
    "\n",
    "Т.е. разыграно по итогу будет 98% призов. </br>\n",
    "Этот люфт можно оставить на непредвиденные ситуации вроде изменения тренда или фрод. </br>\n",
    "На край, дораздать (разыграть за репост?) эти 2 515 баллов под конец февраля. </br>"
   ]
  },
  {
   "cell_type": "markdown",
   "metadata": {},
   "source": [
    "### Про призы баллами или \"пустышки\"\n",
    "\n",
    "Cоздаем 5 747 призов с соблюдением следующих условий: </br>\n",
    "Приз > 0. Сумма стоимости всех призов 28 735 баллов. </br>\n",
    "Медиана меньше половины стоимости спина, иначе риск бесконечного заработка на самих спинах. В нашем случае будет 5. </br>\n",
    "Разброс любой, но самое простое: от 1 до 9. Если \"некрасиво\" или \"скудно\": умножаем Все баллы в системе на 100 - теперь у нас в 100 раз больше вариантов \"пустышек\". </br>\n",
    "\n",
    "Что внутри-то? </br>\n",
    "\n",
    "|Приз, баллов|1|2|3|4|5|6|7|8|9|\n",
    "|---|-|-|-|-|-|-|-|-|-|\n",
    "|Вероятность|4%|8%|12%|16%|20%|16%|12%|8%|4%|\n",
    "|Количество, призов|230|460|690|920|1147|920|690|460|230|\n",
    "|Сумма, баллов|230|920|2070|3680|5735|5520|4830|3680|2070|"
   ]
  },
  {
   "cell_type": "markdown",
   "metadata": {},
   "source": [
    "### Про лучших из лучших или \"балловых олигархов\"\n",
    "\n",
    "Что имеем? Топ 3 уже на 30.09.2023 владеют по 1000+ баллами, дальше будет больше. </br>\n",
    "\n",
    "|ID|296|224|153|Сумма|\n",
    "|-|-|-|-|-|\n",
    "|Баллов, t0|1566|1517|1155|4238|\n",
    "|Доля, t0|6.3%|6.1%|4.7%|17.5%|\n",
    "|Баллов, t1|5747|5565|4288|15600|\n",
    "\n",
    "Как это повлияет на систему и опасно ли это? </br>\n",
    "За 17% баллов они получат 17% призов = 977 шт. </br>\n",
    "Среди которых всего 1/13 будут ключевыми. </br>\n",
    "Значит, эти трое смогут забрать 75 ключевых призов. </br>\n",
    "\n",
    "Теперь важное: если прописать некоторые воображаемые у.е. в таблице \"Ключевые призы\" </br>\n",
    "То можно сделать предположение, что общий бюджет составил 1 500 000 у.е. </br>\n",
    "Таким образом, средняя стоимость приза равна 3 000 у.е., </br> \n",
    "а наши \"олигархи\" смогут выиграть фантастические 225 000 у.е. </br>\n",
    "\n",
    "Много это или мало: неизвестно. Для адекватного расчёта и решения этой проблемы </br>\n",
    "нужны реальные данные по выручкам, офферам и бюджетам. </br>\n",
    "\n",
    "Если вдруг это \"много\": Можно ввести лимиты на \"один ключевой приз в одни руки\" </br>\n",
    "или \"максимум n ключевых призов в периоде t\", а можно и комбинировать. </br>\n",
    "\n",
    "Из лимитов, полезных всегда: \"n спинов в день\" для каждого вебмастера, как мягкий антифрод. В нашем случае, около 10. </br>"
   ]
  },
  {
   "cell_type": "markdown",
   "metadata": {},
   "source": [
    "### Про тех, кто остался за бортом\n",
    "\n",
    "Что имеем? На 30.09.2023 почти половина - 218 из 440 вебмастеров имеют менее 15 баллов, суммарно это 1 688. </br>\n",
    "При сохрании тренда и пропорций, упомянутые выше 218 продолжат зарабатывать, но появятся новые вебмастера, которые заработать больше 15 не успеют. </br>\n",
    "Единственное, что изменится со временем - это количество баллов на счетах тех, кто имеет менее 15, оно достигнет 4 274. </br>\n",
    "\n",
    "Итого, у нас 50% вебмастеров владеют около 5% всех баллов. </br>\n",
    "Всю эту сумму \"вне игры\" можно опять же раздать под конец февраля. </br>"
   ]
  },
  {
   "cell_type": "markdown",
   "metadata": {},
   "source": []
  }
 ],
 "metadata": {
  "kernelspec": {
   "display_name": "Python 3",
   "language": "python",
   "name": "python3"
  },
  "language_info": {
   "codemirror_mode": {
    "name": "ipython",
    "version": 3
   },
   "file_extension": ".py",
   "mimetype": "text/x-python",
   "name": "python",
   "nbconvert_exporter": "python",
   "pygments_lexer": "ipython3",
   "version": "3.11.2"
  }
 },
 "nbformat": 4,
 "nbformat_minor": 2
}
